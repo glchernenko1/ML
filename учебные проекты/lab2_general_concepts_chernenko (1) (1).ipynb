{
  "nbformat": 4,
  "nbformat_minor": 0,
  "metadata": {
    "kernelspec": {
      "display_name": "Python 3",
      "language": "python",
      "name": "python3"
    },
    "language_info": {
      "codemirror_mode": {
        "name": "ipython",
        "version": 3
      },
      "file_extension": ".py",
      "mimetype": "text/x-python",
      "name": "python",
      "nbconvert_exporter": "python",
      "pygments_lexer": "ipython3",
      "version": "3.6.5"
    },
    "colab": {
      "name": "lab2-general-concepts-chernenko.ipynb",
      "provenance": [],
      "collapsed_sections": []
    }
  },
  "cells": [
    {
      "cell_type": "markdown",
      "metadata": {
        "id": "fJpM0Dzathev"
      },
      "source": [
        "### Лабораторная работа 2: основные понятия"
      ]
    },
    {
      "cell_type": "markdown",
      "metadata": {
        "id": "5Ra7b_-Cthey"
      },
      "source": [
        "В сегодняшней лабораторной будем работать с данными о проданных на аукционе автомобилях (`Carvana Car Prediction`). Целевым признаком здесь является наличие скрытых продавцом существенных недостатков. \n",
        "\n",
        "Carvana &mdash; компания-перекупщик автомобилей, соответственно, ее задача &mdash; не допустить скупку автомобилей со скрытыми недостатками, так как их впоследствии тяжелее продавать."
      ]
    },
    {
      "cell_type": "markdown",
      "metadata": {
        "id": "32IAbfWRthey"
      },
      "source": [
        "## 1"
      ]
    },
    {
      "cell_type": "markdown",
      "metadata": {
        "id": "FXjZranathez"
      },
      "source": [
        "Загрузите данные о проданных на аукционе автомобилях. Посмотрите на \"сырые\" данные. \n",
        "\n",
        "Просмотрите файл `DataDictionary-ru.txt` и поймите, что означают столбцы матрицы. Выведите статистику по столбцам.\n"
      ]
    },
    {
      "cell_type": "code",
      "metadata": {
        "id": "LgILtZp1thez"
      },
      "source": [
        "import pandas as pd"
      ],
      "execution_count": 208,
      "outputs": []
    },
    {
      "cell_type": "code",
      "metadata": {
        "colab": {
          "base_uri": "https://localhost:8080/",
          "height": 317
        },
        "id": "9D9Js2OLthe0",
        "outputId": "a3e61cb3-8516-4059-8155-b5114ffb471c"
      },
      "source": [
        "# место для кода\n",
        "df = pd.read_csv('data.csv', delimiter=',')\n",
        "df.describe()"
      ],
      "execution_count": 209,
      "outputs": [
        {
          "output_type": "execute_result",
          "data": {
            "text/html": [
              "<div>\n",
              "<style scoped>\n",
              "    .dataframe tbody tr th:only-of-type {\n",
              "        vertical-align: middle;\n",
              "    }\n",
              "\n",
              "    .dataframe tbody tr th {\n",
              "        vertical-align: top;\n",
              "    }\n",
              "\n",
              "    .dataframe thead th {\n",
              "        text-align: right;\n",
              "    }\n",
              "</style>\n",
              "<table border=\"1\" class=\"dataframe\">\n",
              "  <thead>\n",
              "    <tr style=\"text-align: right;\">\n",
              "      <th></th>\n",
              "      <th>RefId</th>\n",
              "      <th>IsBadBuy</th>\n",
              "      <th>VehYear</th>\n",
              "      <th>VehicleAge</th>\n",
              "      <th>WheelTypeID</th>\n",
              "      <th>VehOdo</th>\n",
              "      <th>MMRAcquisitionAuctionAveragePrice</th>\n",
              "      <th>MMRAcquisitionAuctionCleanPrice</th>\n",
              "      <th>MMRAcquisitionRetailAveragePrice</th>\n",
              "      <th>MMRAcquisitonRetailCleanPrice</th>\n",
              "      <th>MMRCurrentAuctionAveragePrice</th>\n",
              "      <th>MMRCurrentAuctionCleanPrice</th>\n",
              "      <th>MMRCurrentRetailAveragePrice</th>\n",
              "      <th>MMRCurrentRetailCleanPrice</th>\n",
              "      <th>BYRNO</th>\n",
              "      <th>VNZIP1</th>\n",
              "      <th>VehBCost</th>\n",
              "      <th>IsOnlineSale</th>\n",
              "      <th>WarrantyCost</th>\n",
              "    </tr>\n",
              "  </thead>\n",
              "  <tbody>\n",
              "    <tr>\n",
              "      <th>count</th>\n",
              "      <td>72983.000000</td>\n",
              "      <td>72983.000000</td>\n",
              "      <td>72983.000000</td>\n",
              "      <td>72983.000000</td>\n",
              "      <td>69814.000000</td>\n",
              "      <td>72983.000000</td>\n",
              "      <td>72965.000000</td>\n",
              "      <td>72965.000000</td>\n",
              "      <td>72965.000000</td>\n",
              "      <td>72965.000000</td>\n",
              "      <td>72668.000000</td>\n",
              "      <td>72668.000000</td>\n",
              "      <td>72668.000000</td>\n",
              "      <td>72668.000000</td>\n",
              "      <td>72983.000000</td>\n",
              "      <td>72983.000000</td>\n",
              "      <td>72983.000000</td>\n",
              "      <td>72983.000000</td>\n",
              "      <td>72983.000000</td>\n",
              "    </tr>\n",
              "    <tr>\n",
              "      <th>mean</th>\n",
              "      <td>36511.428497</td>\n",
              "      <td>0.122988</td>\n",
              "      <td>2005.343052</td>\n",
              "      <td>4.176644</td>\n",
              "      <td>1.494299</td>\n",
              "      <td>71499.995917</td>\n",
              "      <td>6128.909217</td>\n",
              "      <td>7373.636031</td>\n",
              "      <td>8497.034332</td>\n",
              "      <td>9850.928240</td>\n",
              "      <td>6132.081287</td>\n",
              "      <td>7390.681827</td>\n",
              "      <td>8775.723331</td>\n",
              "      <td>10145.385314</td>\n",
              "      <td>26345.842155</td>\n",
              "      <td>58043.059945</td>\n",
              "      <td>6730.934326</td>\n",
              "      <td>0.025280</td>\n",
              "      <td>1276.580985</td>\n",
              "    </tr>\n",
              "    <tr>\n",
              "      <th>std</th>\n",
              "      <td>21077.241302</td>\n",
              "      <td>0.328425</td>\n",
              "      <td>1.731252</td>\n",
              "      <td>1.712210</td>\n",
              "      <td>0.521290</td>\n",
              "      <td>14578.913128</td>\n",
              "      <td>2461.992768</td>\n",
              "      <td>2722.491986</td>\n",
              "      <td>3156.285284</td>\n",
              "      <td>3385.789541</td>\n",
              "      <td>2434.567723</td>\n",
              "      <td>2686.248852</td>\n",
              "      <td>3090.702941</td>\n",
              "      <td>3310.254351</td>\n",
              "      <td>25717.351219</td>\n",
              "      <td>26151.640415</td>\n",
              "      <td>1767.846435</td>\n",
              "      <td>0.156975</td>\n",
              "      <td>598.846788</td>\n",
              "    </tr>\n",
              "    <tr>\n",
              "      <th>min</th>\n",
              "      <td>1.000000</td>\n",
              "      <td>0.000000</td>\n",
              "      <td>2001.000000</td>\n",
              "      <td>0.000000</td>\n",
              "      <td>0.000000</td>\n",
              "      <td>4825.000000</td>\n",
              "      <td>0.000000</td>\n",
              "      <td>0.000000</td>\n",
              "      <td>0.000000</td>\n",
              "      <td>0.000000</td>\n",
              "      <td>0.000000</td>\n",
              "      <td>0.000000</td>\n",
              "      <td>0.000000</td>\n",
              "      <td>0.000000</td>\n",
              "      <td>835.000000</td>\n",
              "      <td>2764.000000</td>\n",
              "      <td>1.000000</td>\n",
              "      <td>0.000000</td>\n",
              "      <td>462.000000</td>\n",
              "    </tr>\n",
              "    <tr>\n",
              "      <th>25%</th>\n",
              "      <td>18257.500000</td>\n",
              "      <td>0.000000</td>\n",
              "      <td>2004.000000</td>\n",
              "      <td>3.000000</td>\n",
              "      <td>1.000000</td>\n",
              "      <td>61837.000000</td>\n",
              "      <td>4273.000000</td>\n",
              "      <td>5406.000000</td>\n",
              "      <td>6280.000000</td>\n",
              "      <td>7493.000000</td>\n",
              "      <td>4275.000000</td>\n",
              "      <td>5414.000000</td>\n",
              "      <td>6536.000000</td>\n",
              "      <td>7784.000000</td>\n",
              "      <td>17212.000000</td>\n",
              "      <td>32124.000000</td>\n",
              "      <td>5435.000000</td>\n",
              "      <td>0.000000</td>\n",
              "      <td>837.000000</td>\n",
              "    </tr>\n",
              "    <tr>\n",
              "      <th>50%</th>\n",
              "      <td>36514.000000</td>\n",
              "      <td>0.000000</td>\n",
              "      <td>2005.000000</td>\n",
              "      <td>4.000000</td>\n",
              "      <td>1.000000</td>\n",
              "      <td>73361.000000</td>\n",
              "      <td>6097.000000</td>\n",
              "      <td>7303.000000</td>\n",
              "      <td>8444.000000</td>\n",
              "      <td>9789.000000</td>\n",
              "      <td>6062.000000</td>\n",
              "      <td>7313.000000</td>\n",
              "      <td>8729.000000</td>\n",
              "      <td>10103.000000</td>\n",
              "      <td>19662.000000</td>\n",
              "      <td>73108.000000</td>\n",
              "      <td>6700.000000</td>\n",
              "      <td>0.000000</td>\n",
              "      <td>1155.000000</td>\n",
              "    </tr>\n",
              "    <tr>\n",
              "      <th>75%</th>\n",
              "      <td>54764.500000</td>\n",
              "      <td>0.000000</td>\n",
              "      <td>2007.000000</td>\n",
              "      <td>5.000000</td>\n",
              "      <td>2.000000</td>\n",
              "      <td>82436.000000</td>\n",
              "      <td>7765.000000</td>\n",
              "      <td>9021.000000</td>\n",
              "      <td>10651.000000</td>\n",
              "      <td>12088.000000</td>\n",
              "      <td>7736.000000</td>\n",
              "      <td>9013.000000</td>\n",
              "      <td>10911.000000</td>\n",
              "      <td>12309.000000</td>\n",
              "      <td>22808.000000</td>\n",
              "      <td>80022.000000</td>\n",
              "      <td>7900.000000</td>\n",
              "      <td>0.000000</td>\n",
              "      <td>1623.000000</td>\n",
              "    </tr>\n",
              "    <tr>\n",
              "      <th>max</th>\n",
              "      <td>73014.000000</td>\n",
              "      <td>1.000000</td>\n",
              "      <td>2010.000000</td>\n",
              "      <td>9.000000</td>\n",
              "      <td>3.000000</td>\n",
              "      <td>115717.000000</td>\n",
              "      <td>35722.000000</td>\n",
              "      <td>36859.000000</td>\n",
              "      <td>39080.000000</td>\n",
              "      <td>41482.000000</td>\n",
              "      <td>35722.000000</td>\n",
              "      <td>36859.000000</td>\n",
              "      <td>39080.000000</td>\n",
              "      <td>41062.000000</td>\n",
              "      <td>99761.000000</td>\n",
              "      <td>99224.000000</td>\n",
              "      <td>45469.000000</td>\n",
              "      <td>1.000000</td>\n",
              "      <td>7498.000000</td>\n",
              "    </tr>\n",
              "  </tbody>\n",
              "</table>\n",
              "</div>"
            ],
            "text/plain": [
              "              RefId      IsBadBuy  ...  IsOnlineSale  WarrantyCost\n",
              "count  72983.000000  72983.000000  ...  72983.000000  72983.000000\n",
              "mean   36511.428497      0.122988  ...      0.025280   1276.580985\n",
              "std    21077.241302      0.328425  ...      0.156975    598.846788\n",
              "min        1.000000      0.000000  ...      0.000000    462.000000\n",
              "25%    18257.500000      0.000000  ...      0.000000    837.000000\n",
              "50%    36514.000000      0.000000  ...      0.000000   1155.000000\n",
              "75%    54764.500000      0.000000  ...      0.000000   1623.000000\n",
              "max    73014.000000      1.000000  ...      1.000000   7498.000000\n",
              "\n",
              "[8 rows x 19 columns]"
            ]
          },
          "metadata": {},
          "execution_count": 209
        }
      ]
    },
    {
      "cell_type": "code",
      "metadata": {
        "id": "LQF0-SClvOnF",
        "colab": {
          "base_uri": "https://localhost:8080/",
          "height": 377
        },
        "outputId": "759ac7ae-af27-43b3-ad74-9df8312683a3"
      },
      "source": [
        "df.tail()"
      ],
      "execution_count": 210,
      "outputs": [
        {
          "output_type": "execute_result",
          "data": {
            "text/html": [
              "<div>\n",
              "<style scoped>\n",
              "    .dataframe tbody tr th:only-of-type {\n",
              "        vertical-align: middle;\n",
              "    }\n",
              "\n",
              "    .dataframe tbody tr th {\n",
              "        vertical-align: top;\n",
              "    }\n",
              "\n",
              "    .dataframe thead th {\n",
              "        text-align: right;\n",
              "    }\n",
              "</style>\n",
              "<table border=\"1\" class=\"dataframe\">\n",
              "  <thead>\n",
              "    <tr style=\"text-align: right;\">\n",
              "      <th></th>\n",
              "      <th>RefId</th>\n",
              "      <th>IsBadBuy</th>\n",
              "      <th>PurchDate</th>\n",
              "      <th>Auction</th>\n",
              "      <th>VehYear</th>\n",
              "      <th>VehicleAge</th>\n",
              "      <th>Make</th>\n",
              "      <th>Model</th>\n",
              "      <th>Trim</th>\n",
              "      <th>SubModel</th>\n",
              "      <th>Color</th>\n",
              "      <th>Transmission</th>\n",
              "      <th>WheelTypeID</th>\n",
              "      <th>WheelType</th>\n",
              "      <th>VehOdo</th>\n",
              "      <th>Nationality</th>\n",
              "      <th>Size</th>\n",
              "      <th>TopThreeAmericanName</th>\n",
              "      <th>MMRAcquisitionAuctionAveragePrice</th>\n",
              "      <th>MMRAcquisitionAuctionCleanPrice</th>\n",
              "      <th>MMRAcquisitionRetailAveragePrice</th>\n",
              "      <th>MMRAcquisitonRetailCleanPrice</th>\n",
              "      <th>MMRCurrentAuctionAveragePrice</th>\n",
              "      <th>MMRCurrentAuctionCleanPrice</th>\n",
              "      <th>MMRCurrentRetailAveragePrice</th>\n",
              "      <th>MMRCurrentRetailCleanPrice</th>\n",
              "      <th>PRIMEUNIT</th>\n",
              "      <th>AUCGUART</th>\n",
              "      <th>BYRNO</th>\n",
              "      <th>VNZIP1</th>\n",
              "      <th>VNST</th>\n",
              "      <th>VehBCost</th>\n",
              "      <th>IsOnlineSale</th>\n",
              "      <th>WarrantyCost</th>\n",
              "    </tr>\n",
              "  </thead>\n",
              "  <tbody>\n",
              "    <tr>\n",
              "      <th>72978</th>\n",
              "      <td>73010</td>\n",
              "      <td>1</td>\n",
              "      <td>12/2/2009</td>\n",
              "      <td>ADESA</td>\n",
              "      <td>2001</td>\n",
              "      <td>8</td>\n",
              "      <td>MERCURY</td>\n",
              "      <td>SABLE</td>\n",
              "      <td>GS</td>\n",
              "      <td>4D SEDAN GS</td>\n",
              "      <td>BLACK</td>\n",
              "      <td>AUTO</td>\n",
              "      <td>1.0</td>\n",
              "      <td>Alloy</td>\n",
              "      <td>45234</td>\n",
              "      <td>AMERICAN</td>\n",
              "      <td>MEDIUM</td>\n",
              "      <td>FORD</td>\n",
              "      <td>1996.0</td>\n",
              "      <td>2993.0</td>\n",
              "      <td>2656.0</td>\n",
              "      <td>3732.0</td>\n",
              "      <td>2190.0</td>\n",
              "      <td>3055.0</td>\n",
              "      <td>4836.0</td>\n",
              "      <td>5937.0</td>\n",
              "      <td>NaN</td>\n",
              "      <td>NaN</td>\n",
              "      <td>18111</td>\n",
              "      <td>30212</td>\n",
              "      <td>GA</td>\n",
              "      <td>4200.0</td>\n",
              "      <td>0</td>\n",
              "      <td>993</td>\n",
              "    </tr>\n",
              "    <tr>\n",
              "      <th>72979</th>\n",
              "      <td>73011</td>\n",
              "      <td>0</td>\n",
              "      <td>12/2/2009</td>\n",
              "      <td>ADESA</td>\n",
              "      <td>2007</td>\n",
              "      <td>2</td>\n",
              "      <td>CHEVROLET</td>\n",
              "      <td>MALIBU 4C</td>\n",
              "      <td>LS</td>\n",
              "      <td>4D SEDAN LS</td>\n",
              "      <td>SILVER</td>\n",
              "      <td>AUTO</td>\n",
              "      <td>NaN</td>\n",
              "      <td>NaN</td>\n",
              "      <td>71759</td>\n",
              "      <td>AMERICAN</td>\n",
              "      <td>MEDIUM</td>\n",
              "      <td>GM</td>\n",
              "      <td>6418.0</td>\n",
              "      <td>7325.0</td>\n",
              "      <td>7431.0</td>\n",
              "      <td>8411.0</td>\n",
              "      <td>6785.0</td>\n",
              "      <td>8132.0</td>\n",
              "      <td>10151.0</td>\n",
              "      <td>11652.0</td>\n",
              "      <td>NaN</td>\n",
              "      <td>NaN</td>\n",
              "      <td>18881</td>\n",
              "      <td>30212</td>\n",
              "      <td>GA</td>\n",
              "      <td>6200.0</td>\n",
              "      <td>0</td>\n",
              "      <td>1038</td>\n",
              "    </tr>\n",
              "    <tr>\n",
              "      <th>72980</th>\n",
              "      <td>73012</td>\n",
              "      <td>0</td>\n",
              "      <td>12/2/2009</td>\n",
              "      <td>ADESA</td>\n",
              "      <td>2005</td>\n",
              "      <td>4</td>\n",
              "      <td>JEEP</td>\n",
              "      <td>GRAND CHEROKEE 2WD V</td>\n",
              "      <td>Lar</td>\n",
              "      <td>4D WAGON LAREDO</td>\n",
              "      <td>SILVER</td>\n",
              "      <td>AUTO</td>\n",
              "      <td>1.0</td>\n",
              "      <td>Alloy</td>\n",
              "      <td>88500</td>\n",
              "      <td>AMERICAN</td>\n",
              "      <td>MEDIUM SUV</td>\n",
              "      <td>CHRYSLER</td>\n",
              "      <td>8545.0</td>\n",
              "      <td>9959.0</td>\n",
              "      <td>9729.0</td>\n",
              "      <td>11256.0</td>\n",
              "      <td>8375.0</td>\n",
              "      <td>9802.0</td>\n",
              "      <td>11831.0</td>\n",
              "      <td>14402.0</td>\n",
              "      <td>NaN</td>\n",
              "      <td>NaN</td>\n",
              "      <td>18111</td>\n",
              "      <td>30212</td>\n",
              "      <td>GA</td>\n",
              "      <td>8200.0</td>\n",
              "      <td>0</td>\n",
              "      <td>1893</td>\n",
              "    </tr>\n",
              "    <tr>\n",
              "      <th>72981</th>\n",
              "      <td>73013</td>\n",
              "      <td>0</td>\n",
              "      <td>12/2/2009</td>\n",
              "      <td>ADESA</td>\n",
              "      <td>2006</td>\n",
              "      <td>3</td>\n",
              "      <td>CHEVROLET</td>\n",
              "      <td>IMPALA</td>\n",
              "      <td>LS</td>\n",
              "      <td>4D SEDAN LS</td>\n",
              "      <td>WHITE</td>\n",
              "      <td>AUTO</td>\n",
              "      <td>1.0</td>\n",
              "      <td>Alloy</td>\n",
              "      <td>79554</td>\n",
              "      <td>AMERICAN</td>\n",
              "      <td>LARGE</td>\n",
              "      <td>GM</td>\n",
              "      <td>6420.0</td>\n",
              "      <td>7604.0</td>\n",
              "      <td>7434.0</td>\n",
              "      <td>8712.0</td>\n",
              "      <td>6590.0</td>\n",
              "      <td>7684.0</td>\n",
              "      <td>10099.0</td>\n",
              "      <td>11228.0</td>\n",
              "      <td>NaN</td>\n",
              "      <td>NaN</td>\n",
              "      <td>18881</td>\n",
              "      <td>30212</td>\n",
              "      <td>GA</td>\n",
              "      <td>7000.0</td>\n",
              "      <td>0</td>\n",
              "      <td>1974</td>\n",
              "    </tr>\n",
              "    <tr>\n",
              "      <th>72982</th>\n",
              "      <td>73014</td>\n",
              "      <td>0</td>\n",
              "      <td>12/2/2009</td>\n",
              "      <td>ADESA</td>\n",
              "      <td>2006</td>\n",
              "      <td>3</td>\n",
              "      <td>MAZDA</td>\n",
              "      <td>MAZDA6</td>\n",
              "      <td>s</td>\n",
              "      <td>4D SEDAN S</td>\n",
              "      <td>SILVER</td>\n",
              "      <td>AUTO</td>\n",
              "      <td>1.0</td>\n",
              "      <td>Alloy</td>\n",
              "      <td>66855</td>\n",
              "      <td>OTHER ASIAN</td>\n",
              "      <td>MEDIUM</td>\n",
              "      <td>OTHER</td>\n",
              "      <td>7535.0</td>\n",
              "      <td>8771.0</td>\n",
              "      <td>8638.0</td>\n",
              "      <td>9973.0</td>\n",
              "      <td>7730.0</td>\n",
              "      <td>9102.0</td>\n",
              "      <td>11954.0</td>\n",
              "      <td>13246.0</td>\n",
              "      <td>NaN</td>\n",
              "      <td>NaN</td>\n",
              "      <td>18111</td>\n",
              "      <td>30212</td>\n",
              "      <td>GA</td>\n",
              "      <td>8000.0</td>\n",
              "      <td>0</td>\n",
              "      <td>1313</td>\n",
              "    </tr>\n",
              "  </tbody>\n",
              "</table>\n",
              "</div>"
            ],
            "text/plain": [
              "       RefId  IsBadBuy  PurchDate  ... VehBCost  IsOnlineSale  WarrantyCost\n",
              "72978  73010         1  12/2/2009  ...   4200.0             0           993\n",
              "72979  73011         0  12/2/2009  ...   6200.0             0          1038\n",
              "72980  73012         0  12/2/2009  ...   8200.0             0          1893\n",
              "72981  73013         0  12/2/2009  ...   7000.0             0          1974\n",
              "72982  73014         0  12/2/2009  ...   8000.0             0          1313\n",
              "\n",
              "[5 rows x 34 columns]"
            ]
          },
          "metadata": {},
          "execution_count": 210
        }
      ]
    },
    {
      "cell_type": "code",
      "metadata": {
        "id": "IC-RK7Gne3qw"
      },
      "source": [
        ""
      ],
      "execution_count": 210,
      "outputs": []
    },
    {
      "cell_type": "markdown",
      "metadata": {
        "id": "RvfzldRmthe0"
      },
      "source": [
        "## 2\n",
        "\n",
        "Постройте график рассеяния с пробегом в качестве оси абсцисс и ценой `MMRCurrentRetailAveragePrice` в качестве оси ординат. Автомобили без недостатков отметьте зеленым цветом, со скрытыми недостатками — красным."
      ]
    },
    {
      "cell_type": "code",
      "metadata": {
        "id": "R74A53l6the1"
      },
      "source": [
        "%matplotlib inline\n",
        "import matplotlib.pyplot as plt"
      ],
      "execution_count": 211,
      "outputs": []
    },
    {
      "cell_type": "code",
      "metadata": {
        "id": "X32-yuHNthe1",
        "colab": {
          "base_uri": "https://localhost:8080/",
          "height": 282
        },
        "outputId": "5c3f70d3-5b58-405c-fd1d-6e42aa4a9090"
      },
      "source": [
        "# место для кода\n",
        "plt.scatter(df['VehOdo'], df['MMRCurrentRetailAveragePrice'], c=df['IsBadBuy']==0, alpha=0.4, cmap='RdYlGn')"
      ],
      "execution_count": 212,
      "outputs": [
        {
          "output_type": "execute_result",
          "data": {
            "text/plain": [
              "<matplotlib.collections.PathCollection at 0x7ff607a14a90>"
            ]
          },
          "metadata": {},
          "execution_count": 212
        },
        {
          "output_type": "display_data",
          "data": {
            "image/png": "[encoded data removed]",
            "text/plain": [
              "<Figure size 432x288 with 1 Axes>"
            ]
          },
          "metadata": {
            "needs_background": "light"
          }
        }
      ]
    },
    {
      "cell_type": "markdown",
      "metadata": {
        "id": "VVx8rA1hthe1"
      },
      "source": [
        "# Регрессия"
      ]
    },
    {
      "cell_type": "code",
      "metadata": {
        "id": "rxq1L4U348UO"
      },
      "source": [
        ""
      ],
      "execution_count": 212,
      "outputs": []
    },
    {
      "cell_type": "markdown",
      "metadata": {
        "id": "Ygzdr5Futhe1"
      },
      "source": [
        "## 3a\n",
        "\n",
        "Импортируйте из библиотеки `sklearn` все модели машинного обучения:\n",
        "\n",
        "`from sklearn import *`\n",
        "\n",
        "Трактуя задачу о предсказании наличия недостатков как задачу регрессии, натренируйте линейную модель [`LinearRegression`](https://scikit-learn.org/stable/modules/generated/sklearn.linear_model.LinearRegression.html) на каком-нибудь подмножестве признаков (например, тех же `VehOdo` и `MMRCurrentRetailAveragePrice`). \n",
        "\n",
        "С какой проблемой вы столкнулись? Какие способы ее решения вы можете предложить?\n",
        "\n",
        "*Функции, которые могут пригодиться при решении: `.fit(), .loc[], pd.notnull()`*\n",
        "\n",
        "*Создание модели:* `model1 = linear_model.LinearRegression()`\n",
        "\n",
        "*Тренировка:*\n",
        "`model1.fit(x, y)`\n",
        "\n"
      ]
    },
    {
      "cell_type": "code",
      "metadata": {
        "id": "9XePeRtEthe1"
      },
      "source": [
        "# место для кода\n",
        "from sklearn import *\n",
        "tmp = df[['IsBadBuy', 'VehOdo', 'WarrantyCost', 'MMRCurrentRetailAveragePrice', 'MMRAcquisitionAuctionAveragePrice', 'VehBCost', 'VehYear']].dropna()\n",
        "y=tmp['IsBadBuy']\n",
        "x=tmp[['VehOdo', 'MMRCurrentRetailAveragePrice', 'MMRAcquisitionAuctionAveragePrice', 'VehBCost']]\n",
        "model = linear_model.LinearRegression()\n"
      ],
      "execution_count": 213,
      "outputs": []
    },
    {
      "cell_type": "code",
      "metadata": {
        "id": "PLY9eZEG7Yd-",
        "colab": {
          "base_uri": "https://localhost:8080/"
        },
        "outputId": "9519442c-284b-421a-9b20-c99e66e600ce"
      },
      "source": [
        "model.fit(x, y)"
      ],
      "execution_count": 214,
      "outputs": [
        {
          "output_type": "execute_result",
          "data": {
            "text/plain": [
              "LinearRegression(copy_X=True, fit_intercept=True, n_jobs=None, normalize=False)"
            ]
          },
          "metadata": {},
          "execution_count": 214
        }
      ]
    },
    {
      "cell_type": "markdown",
      "metadata": {
        "id": "KdC_DckPthe2"
      },
      "source": [
        "## 3b\n",
        "\n",
        "Выполните предсказание для всех объектов обучающей выборки и присвойте результат переменной prediction\n",
        "\n",
        "*Функции, которые могут пригодиться при решении: `model.predict()`*"
      ]
    },
    {
      "cell_type": "code",
      "metadata": {
        "id": "-EgFQ7SXthe2"
      },
      "source": [
        "prediction = model.predict(x)"
      ],
      "execution_count": 215,
      "outputs": []
    },
    {
      "cell_type": "code",
      "metadata": {
        "id": "4s15Naiw8uWR",
        "colab": {
          "base_uri": "https://localhost:8080/"
        },
        "outputId": "92b47450-ba51-4cdc-eb83-6a81d47277bd"
      },
      "source": [
        "prediction"
      ],
      "execution_count": 216,
      "outputs": [
        {
          "output_type": "execute_result",
          "data": {
            "text/plain": [
              "array([0.12588233, 0.14351062, 0.16296836, ..., 0.11721731, 0.12878686,\n",
              "       0.08549815])"
            ]
          },
          "metadata": {},
          "execution_count": 216
        }
      ]
    },
    {
      "cell_type": "markdown",
      "metadata": {
        "id": "NrbN2vDxthe2"
      },
      "source": [
        "## 3c\n",
        "\n",
        "Преобразуйте получившийся вектор предсказаний `prediction` к значениям `{0,1}`. Это можно сделать, например, используя list comprehensions: https://docs.python.org/3/tutorial/datastructures.html#list-comprehensions \n",
        "\n",
        "`predictionClass = [1 if prediction[i] > 0.5 else 0 for i in range(prediction.shape[0])]`"
      ]
    },
    {
      "cell_type": "code",
      "metadata": {
        "id": "RidvPVccthe2"
      },
      "source": [
        "# место для кода\n",
        "predictionClass = [1 if prediction[i] > 0.18 else 0 for i in range(prediction.shape[0])]"
      ],
      "execution_count": 217,
      "outputs": []
    },
    {
      "cell_type": "code",
      "metadata": {
        "id": "r1b7I_7m8BBp"
      },
      "source": [
        ""
      ],
      "execution_count": 217,
      "outputs": []
    },
    {
      "cell_type": "markdown",
      "metadata": {
        "id": "BnuCGTmgsroI"
      },
      "source": [
        ""
      ]
    },
    {
      "cell_type": "markdown",
      "metadata": {
        "id": "ahKOoapythe3"
      },
      "source": [
        "## 3d\n",
        "\n",
        "Постройте отчет по качеству классификации и матрицу ошибок. Как изменятся отчет и матрица ошибок, если изменить порог в задании 3c (по умолчанию его значение равно 0.5)?\n",
        "\n",
        "*Функции, которые могут пригодиться при решении: `print(metrics.classification_report(...))`, `print(metrics.confusion_matrix(...))`*\n",
        "\n",
        "Функция classification_report для каждого класса объектов считает точность (precision) в этом классе и полноту (recall). Полнота - это процент объектов данного класса, которые ваш метод предсказания тоже отнес к этому классу, среди всех объектов данного класса. Точность (precision) - то же самое, только среди всех объектов, предсказанных для этого класса.\n",
        "\n",
        "Функция confusion_matrix возвращает матрицу с количествами объектов. Номера столбцов матрицы - это номера предсказанных классов, строки - это номера правильных классов. Например, элемент M[0,1] - это количество машин, где на самом деле IsBadBuy = 0, а вы предсказали 1."
      ]
    },
    {
      "cell_type": "code",
      "metadata": {
        "id": "GE4Vr1aUthe3",
        "colab": {
          "base_uri": "https://localhost:8080/"
        },
        "outputId": "5ac0f355-f522-4366-9378-56c056e2e9bc"
      },
      "source": [
        "# место для кода\n",
        "print(metrics.classification_report(y, predictionClass))\n",
        "print(metrics.confusion_matrix(y, predictionClass))"
      ],
      "execution_count": 218,
      "outputs": [
        {
          "output_type": "stream",
          "name": "stdout",
          "text": [
            "              precision    recall  f1-score   support\n",
            "\n",
            "           0       0.89      0.90      0.90     63724\n",
            "           1       0.24      0.22      0.23      8944\n",
            "\n",
            "    accuracy                           0.82     72668\n",
            "   macro avg       0.57      0.56      0.56     72668\n",
            "weighted avg       0.81      0.82      0.81     72668\n",
            "\n",
            "[[57469  6255]\n",
            " [ 6982  1962]]\n"
          ]
        }
      ]
    },
    {
      "cell_type": "markdown",
      "metadata": {
        "id": "QNdLrfecu4cw"
      },
      "source": [
        "Порог 0.5 был большой поэтому все машины были хорошими, экспериментальным образом был выбра порог 0.2, который наилчим образом этой предсказывает классы этой ужасной линейной модели регресии"
      ]
    },
    {
      "cell_type": "markdown",
      "metadata": {
        "id": "j4em6zHZthe3"
      },
      "source": [
        "# Классификация\n",
        "\n",
        "## 4a\n",
        "Трактуя задачу как задачу классификации, постройте модель классификации «решающее дерево» глубины 20  (все аналогично линейной регрессии).\n",
        "\n",
        "\n",
        "*Функции, которые могут пригодиться при решении: `tree.DecisionTreeClassifier(max_depth=20) `*"
      ]
    },
    {
      "cell_type": "code",
      "metadata": {
        "id": "dDdPETKYthe4",
        "colab": {
          "base_uri": "https://localhost:8080/"
        },
        "outputId": "b18a7f67-2b99-4127-e965-41c226f65ba7"
      },
      "source": [
        "# место для кода\n",
        "model2=tree.DecisionTreeClassifier(max_depth=20)\n",
        "model2.fit(x,y)\n"
      ],
      "execution_count": 219,
      "outputs": [
        {
          "output_type": "execute_result",
          "data": {
            "text/plain": [
              "DecisionTreeClassifier(ccp_alpha=0.0, class_weight=None, criterion='gini',\n",
              "                       max_depth=20, max_features=None, max_leaf_nodes=None,\n",
              "                       min_impurity_decrease=0.0, min_impurity_split=None,\n",
              "                       min_samples_leaf=1, min_samples_split=2,\n",
              "                       min_weight_fraction_leaf=0.0, presort='deprecated',\n",
              "                       random_state=None, splitter='best')"
            ]
          },
          "metadata": {},
          "execution_count": 219
        }
      ]
    },
    {
      "cell_type": "markdown",
      "metadata": {
        "id": "uDM2oFclthe4"
      },
      "source": [
        "## 4b\n",
        "\n",
        "Решающее дерево предсказывает вероятности. С помощью построенной модели рассчитайте вероятности наличия скрываемых недостатков.\n",
        "\n",
        "*Функции, которые могут пригодиться при решении: `model.predict_proba() `*"
      ]
    },
    {
      "cell_type": "code",
      "metadata": {
        "id": "8C7Pdcymthe4"
      },
      "source": [
        "# место для кода\n",
        "prediction2 = model2.predict_proba(x)"
      ],
      "execution_count": 220,
      "outputs": []
    },
    {
      "cell_type": "code",
      "metadata": {
        "colab": {
          "base_uri": "https://localhost:8080/"
        },
        "id": "zQo8S8JP8kM8",
        "outputId": "a477ea5a-0e88-4810-b57e-70a3f2713ac8"
      },
      "source": [
        "print(prediction2)"
      ],
      "execution_count": 221,
      "outputs": [
        {
          "output_type": "stream",
          "name": "stdout",
          "text": [
            "[[0.92993631 0.07006369]\n",
            " [0.83655536 0.16344464]\n",
            " [1.         0.        ]\n",
            " ...\n",
            " [0.90086207 0.09913793]\n",
            " [0.90108565 0.09891435]\n",
            " [0.93864542 0.06135458]]\n"
          ]
        }
      ]
    },
    {
      "cell_type": "markdown",
      "metadata": {
        "id": "dnmS7Jz4the4"
      },
      "source": [
        "## 4c\n",
        "\n",
        "Преобразуйте получившийся вектор предсказаний `prediction` к значениям `{0,1}`. Постройте отчет о классификации и матрицу ошибок. Какой метод оказался лучше?"
      ]
    },
    {
      "cell_type": "code",
      "metadata": {
        "id": "bpq9RpluNg0i"
      },
      "source": [
        "def predictions(input):\n",
        "    return [0 if input[i,0]>0.5 else 1 for i in range(input.shape[0])]"
      ],
      "execution_count": 234,
      "outputs": []
    },
    {
      "cell_type": "code",
      "metadata": {
        "id": "sFa1_TW4the4",
        "colab": {
          "base_uri": "https://localhost:8080/"
        },
        "outputId": "a61e81c3-474b-46b9-89b0-b89ff5b2b88f"
      },
      "source": [
        "# место для кода\n",
        "predictionClass2 = predictions(prediction2) \n",
        "print(metrics.classification_report(y, predictionClass2))\n",
        "print(metrics.confusion_matrix(y, predictionClass2))"
      ],
      "execution_count": 235,
      "outputs": [
        {
          "output_type": "stream",
          "name": "stdout",
          "text": [
            "              precision    recall  f1-score   support\n",
            "\n",
            "           0       0.93      1.00      0.96     63724\n",
            "           1       0.95      0.43      0.59      8944\n",
            "\n",
            "    accuracy                           0.93     72668\n",
            "   macro avg       0.94      0.71      0.78     72668\n",
            "weighted avg       0.93      0.93      0.92     72668\n",
            "\n",
            "[[63524   200]\n",
            " [ 5078  3866]]\n"
          ]
        }
      ]
    },
    {
      "cell_type": "markdown",
      "metadata": {
        "id": "wbmoHNRA2Nte"
      },
      "source": [
        "Решающее дерево оказалось лучше изходя из метрик"
      ]
    },
    {
      "cell_type": "markdown",
      "metadata": {
        "id": "QHB2k64bthe5"
      },
      "source": [
        "# Кросс-валидация\n",
        "## 5a\n",
        "\n",
        "\n",
        "Разделите исходную выборку на две части, например, используя [slices](https://pythonz.net/references/named/slice/):\n",
        "\n",
        "`dataTrain = data.loc[0:34999,]\n",
        "dataTest = data.loc[35000:69999,]`"
      ]
    },
    {
      "cell_type": "code",
      "metadata": {
        "id": "diAAg98qthe5"
      },
      "source": [
        "# место для кода\n",
        "dataTrain = tmp.loc[0:34999,] \n",
        "dataTest = tmp.loc[35000:69999,]\n",
        "\n",
        "x_train = dataTrain[['VehOdo', 'WarrantyCost', 'MMRCurrentRetailAveragePrice', 'MMRAcquisitionAuctionAveragePrice', 'VehBCost', 'VehYear']]\n",
        "y_train = dataTrain['IsBadBuy']\n",
        "\n",
        "x_test = dataTest[['VehOdo', 'WarrantyCost', 'MMRCurrentRetailAveragePrice', 'MMRAcquisitionAuctionAveragePrice', 'VehBCost', 'VehYear']]\n",
        "y_test = dataTest['IsBadBuy']"
      ],
      "execution_count": 224,
      "outputs": []
    },
    {
      "cell_type": "markdown",
      "metadata": {
        "id": "hwNATB2Qthe5"
      },
      "source": [
        "## 5b\n",
        "\n",
        "Натренируйте решающее дерево на  `dataTrain` и примените к  `dataTrain` и dataTest, вычислив для каждого случая точность предсказания. \n",
        "\n",
        "Проведите несколько экспериментов для различных глубин дерева. Напишите в комментариях, для каких глубин модель недообучена, для каких переобучена и где точка раннего останова.\n",
        "\n",
        "*Функции, которые могут пригодиться при решении: `metrics.accuracy_score() `*"
      ]
    },
    {
      "cell_type": "markdown",
      "metadata": {
        "id": "UT6NR06JmFTS"
      },
      "source": [
        "# **accuracy_score не логично использовать в данной задачи!!! Машин без дефектов больше чем с ними. А классификатор плохо предсказывает плохие мащины поэтому логичнее использовать метрику Recall или precision_score !!!!** "
      ]
    },
    {
      "cell_type": "code",
      "metadata": {
        "id": "hotdTae3the5",
        "colab": {
          "base_uri": "https://localhost:8080/"
        },
        "outputId": "1771e1cc-dd85-4028-d06f-f44a4447fe96"
      },
      "source": [
        "# место для кода\n",
        "#переобучена\n",
        "model3=tree.DecisionTreeClassifier(max_depth=80)\n",
        "model3.fit(x_train,y_train)\n",
        "test_predict = predictions(model3.predict_proba(x_test))\n",
        "train_predict = predictions(model3.predict_proba(x_train))\n",
        "print('test_80 '+ str(metrics.accuracy_score(y_test, test_predict)))\n",
        "print('train_80 '+ str(metrics.accuracy_score(y_train, train_predict)))\n",
        "print()\n",
        "\n",
        "#ok+\n",
        "model4=tree.DecisionTreeClassifier(max_depth=15)\n",
        "model4.fit(x_train,y_train)\n",
        "test_predict = predictions(model4.predict_proba(x_test))\n",
        "train_predict = predictions(model4.predict_proba(x_train))\n",
        "print('test_15 '+ str(metrics.accuracy_score(y_test, test_predict)))\n",
        "print('train_15 '+ str(metrics.accuracy_score(y_train, train_predict)))\n",
        "print()\n",
        "\n",
        "\n",
        "\n",
        "#недоубучена \n",
        "model6=tree.DecisionTreeClassifier(max_depth=5)\n",
        "model6.fit(x_train,y_train)\n",
        "test_predict = predictions(model6.predict_proba(x_test))\n",
        "train_predict = predictions(model6.predict_proba(x_train))\n",
        "print('test_5 '+ str(metrics.accuracy_score(y_test, test_predict)))\n",
        "print('train_5 '+ str(metrics.precision_score(y_train, train_predict)))\n",
        "print()\n"
      ],
      "execution_count": 225,
      "outputs": [
        {
          "output_type": "stream",
          "name": "stdout",
          "text": [
            "test_80 0.7848039497100867\n",
            "train_80 1.0\n",
            "\n",
            "test_15 0.8501349101555773\n",
            "train_15 0.9146226009122989\n",
            "\n",
            "test_5 0.8719788736437224\n",
            "train_5 1.0\n",
            "\n"
          ]
        }
      ]
    },
    {
      "cell_type": "markdown",
      "metadata": {
        "id": "2Xkip96wthe6"
      },
      "source": [
        "# Решающая функция\n",
        "## 6a\n",
        "\n",
        "Вернемся к модели решающего дерева глубины 20, построенного по всей обучающей выборке `data`. Пусть цена ошибки неправильного предсказания 0 равна 1000, а неправильного предсказания 1 — 100.\n",
        "\n",
        "Вычислите функцию потерь &mdash; среднюю ошибку на всей обучающей выборке."
      ]
    },
    {
      "cell_type": "code",
      "metadata": {
        "id": "Gwhie7N1the6",
        "colab": {
          "base_uri": "https://localhost:8080/"
        },
        "outputId": "d9155854-6c62-4888-b595-2b985058f2ed"
      },
      "source": [
        "# место для кода\n",
        "metrics.confusion_matrix(y, predictionClass2)"
      ],
      "execution_count": 226,
      "outputs": [
        {
          "output_type": "execute_result",
          "data": {
            "text/plain": [
              "array([[63724,     0],\n",
              "       [ 5398,  3546]])"
            ]
          },
          "metadata": {},
          "execution_count": 226
        }
      ]
    },
    {
      "cell_type": "code",
      "metadata": {
        "id": "RiQB2sS14ErF"
      },
      "source": [
        "import numpy as np\n"
      ],
      "execution_count": 227,
      "outputs": []
    },
    {
      "cell_type": "code",
      "metadata": {
        "id": "1ZgDLUgnzxyl"
      },
      "source": [
        "def my_metrics(y, prediction):\n",
        "    tmp=metrics.confusion_matrix(y, prediction)\n",
        "    return (tmp[0,1]*1000+tmp[1,1]*100)/y.size"
      ],
      "execution_count": 228,
      "outputs": []
    },
    {
      "cell_type": "code",
      "metadata": {
        "colab": {
          "base_uri": "https://localhost:8080/"
        },
        "id": "S6wb17n7z-xT",
        "outputId": "2899d5ad-7428-40c2-a43e-4e2ba8f206ad"
      },
      "source": [
        "print(my_metrics(y, predictionClass2))"
      ],
      "execution_count": 229,
      "outputs": [
        {
          "output_type": "stream",
          "name": "stdout",
          "text": [
            "4.879726977486651\n"
          ]
        }
      ]
    },
    {
      "cell_type": "markdown",
      "metadata": {
        "id": "Nw3Fb5b3the6"
      },
      "source": [
        "## 6b\n",
        "\n",
        "Выясните, как нужно изменить решающую функцию `[0 if predictionProb[i][0] > 0.5 else 1 for i in range(prediction.shape[0])]`, чтобы функция потерь была минимальна?\n",
        "\n",
        "Найдите оптимальную решающую функцию и минимальное значение функционала потерь методом подбора или пользуясь формулой из лекции 2 (слайд Decision function).\n",
        "\n"
      ]
    },
    {
      "cell_type": "markdown",
      "metadata": {
        "id": "Du6duL7_-nyy"
      },
      "source": [
        "## На обученной выборке, но это не логично("
      ]
    },
    {
      "cell_type": "code",
      "metadata": {
        "id": "plTX8aYYthe6",
        "colab": {
          "base_uri": "https://localhost:8080/"
        },
        "outputId": "ef2e871a-fc95-4a1e-fd30-fbd478ba5bf7"
      },
      "source": [
        "# место для кода\n",
        "def predictions_(input, s):\n",
        "    return [0 if input[i,0]>s else 1 for i in range(input.shape[0])]\n",
        "\n",
        "\n",
        "losses=100000000;\n",
        "s=1\n",
        "for i in range(1, 100):\n",
        "    losses_new=my_metrics(y, predictions_(prediction2, i/100))\n",
        "    if losses_new <= losses:\n",
        "        s=i/100\n",
        "        losses = losses_new\n",
        "    \n",
        "\n",
        "print(losses)"
      ],
      "execution_count": 236,
      "outputs": [
        {
          "output_type": "stream",
          "name": "stdout",
          "text": [
            "4.879726977486651\n"
          ]
        }
      ]
    },
    {
      "cell_type": "code",
      "metadata": {
        "colab": {
          "base_uri": "https://localhost:8080/"
        },
        "id": "stt5OfB52LN8",
        "outputId": "92482fcd-3528-4808-b03b-1570c6b58cb5"
      },
      "source": [
        "print(s)"
      ],
      "execution_count": 233,
      "outputs": [
        {
          "output_type": "stream",
          "name": "stdout",
          "text": [
            "0.14\n"
          ]
        }
      ]
    },
    {
      "cell_type": "markdown",
      "metadata": {
        "id": "JzxgF5Sw-wYV"
      },
      "source": [
        "## На тестовой !"
      ]
    },
    {
      "cell_type": "code",
      "metadata": {
        "id": "vQd4TeH2-jGy"
      },
      "source": [
        "# на тестовых Данных"
      ],
      "execution_count": null,
      "outputs": []
    },
    {
      "cell_type": "code",
      "metadata": {
        "colab": {
          "base_uri": "https://localhost:8080/"
        },
        "id": "oN7Ye6OZ-i9P",
        "outputId": "19efedeb-da15-48ac-8bb3-72a40b593ad4"
      },
      "source": [
        "def predictions_(input, s):\n",
        "    return [0 if input[i,0]>s else 1 for i in range(input.shape[0])]\n",
        "\n",
        "\n",
        "test_predict_4 = model4.predict_proba(x_test)\n",
        "\n",
        "\n",
        "losses=100000000;\n",
        "s=1\n",
        "for i in range(1, 100):\n",
        "    losses_new=my_metrics(y_test, predictions_(test_predict_4, i/100))\n",
        "    if losses_new <= losses:\n",
        "        s=i/100\n",
        "        losses = losses_new\n",
        "    \n",
        "\n",
        "print(losses)"
      ],
      "execution_count": 239,
      "outputs": [
        {
          "output_type": "stream",
          "name": "stdout",
          "text": [
            "29.28411504678799\n"
          ]
        }
      ]
    },
    {
      "cell_type": "code",
      "metadata": {
        "colab": {
          "base_uri": "https://localhost:8080/"
        },
        "id": "mz1preE4_ltb",
        "outputId": "207ec616-6980-404b-cfdb-7295c98535d1"
      },
      "source": [
        "print(s)"
      ],
      "execution_count": 240,
      "outputs": [
        {
          "output_type": "stream",
          "name": "stdout",
          "text": [
            "0.08\n"
          ]
        }
      ]
    }
  ]
}
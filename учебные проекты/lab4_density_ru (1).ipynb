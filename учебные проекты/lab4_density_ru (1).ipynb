{
  "nbformat": 4,
  "nbformat_minor": 0,
  "metadata": {
    "kernelspec": {
      "display_name": "Python 3",
      "language": "python",
      "name": "python3"
    },
    "language_info": {
      "codemirror_mode": {
        "name": "ipython",
        "version": 3
      },
      "file_extension": ".py",
      "mimetype": "text/x-python",
      "name": "python",
      "nbconvert_exporter": "python",
      "pygments_lexer": "ipython3",
      "version": "3.6.5"
    },
    "colab": {
      "name": "lab4_density_ru.ipynb",
      "provenance": [],
      "collapsed_sections": []
    },
    "accelerator": "GPU"
  },
  "cells": [
    {
      "cell_type": "markdown",
      "metadata": {
        "id": "0A5gPzNHP5fu"
      },
      "source": [
        "## Лабораторная 4: восстановление плотности распределения"
      ]
    },
    {
      "cell_type": "markdown",
      "metadata": {
        "id": "DgyzAQ3SP5fz"
      },
      "source": [
        "Данными в этом задании являются измерения некоторых проверочных параметров на конвейерах  сборки оборудования Bosh (см. [конкурс](https://www.kaggle.com/c/bosch-production-line-performance) «Bosch Production Line Performance» на Kaggle). \n",
        "\n",
        "Все исходные данные Bosh не помещаются в оперативную память компьютера, поэтому в файле `data.csv` — лишь некоторые признаки. Прочтите данные из файла `data.csv`. Целевым признаком здесь является `Response` — наличие брака в оборудовании. "
      ]
    },
    {
      "cell_type": "code",
      "metadata": {
        "id": "TRazV_ZkP5f0"
      },
      "source": [
        "import pandas as pd"
      ],
      "execution_count": 1,
      "outputs": []
    },
    {
      "cell_type": "code",
      "metadata": {
        "colab": {
          "base_uri": "https://localhost:8080/",
          "height": 300
        },
        "id": "uqBxf1KFP5f2",
        "outputId": "55c12419-0c69-4119-88b8-4a7295e22c00"
      },
      "source": [
        "# место для кода n=19\n",
        "df = pd.read_csv('data.csv', delimiter=',')\n",
        "df.describe()"
      ],
      "execution_count": 2,
      "outputs": [
        {
          "output_type": "execute_result",
          "data": {
            "text/html": [
              "<div>\n",
              "<style scoped>\n",
              "    .dataframe tbody tr th:only-of-type {\n",
              "        vertical-align: middle;\n",
              "    }\n",
              "\n",
              "    .dataframe tbody tr th {\n",
              "        vertical-align: top;\n",
              "    }\n",
              "\n",
              "    .dataframe thead th {\n",
              "        text-align: right;\n",
              "    }\n",
              "</style>\n",
              "<table border=\"1\" class=\"dataframe\">\n",
              "  <thead>\n",
              "    <tr style=\"text-align: right;\">\n",
              "      <th></th>\n",
              "      <th>L1_S24_F1844</th>\n",
              "      <th>L1_S24_F1846</th>\n",
              "      <th>Response</th>\n",
              "    </tr>\n",
              "  </thead>\n",
              "  <tbody>\n",
              "    <tr>\n",
              "      <th>count</th>\n",
              "      <td>61949.000000</td>\n",
              "      <td>61949.000000</td>\n",
              "      <td>61949.000000</td>\n",
              "    </tr>\n",
              "    <tr>\n",
              "      <th>mean</th>\n",
              "      <td>0.000329</td>\n",
              "      <td>-0.000791</td>\n",
              "      <td>0.009847</td>\n",
              "    </tr>\n",
              "    <tr>\n",
              "      <th>std</th>\n",
              "      <td>0.191397</td>\n",
              "      <td>0.134613</td>\n",
              "      <td>0.098742</td>\n",
              "    </tr>\n",
              "    <tr>\n",
              "      <th>min</th>\n",
              "      <td>-0.406000</td>\n",
              "      <td>-0.622000</td>\n",
              "      <td>0.000000</td>\n",
              "    </tr>\n",
              "    <tr>\n",
              "      <th>25%</th>\n",
              "      <td>-0.146000</td>\n",
              "      <td>-0.120000</td>\n",
              "      <td>0.000000</td>\n",
              "    </tr>\n",
              "    <tr>\n",
              "      <th>50%</th>\n",
              "      <td>-0.001000</td>\n",
              "      <td>-0.001000</td>\n",
              "      <td>0.000000</td>\n",
              "    </tr>\n",
              "    <tr>\n",
              "      <th>75%</th>\n",
              "      <td>0.143000</td>\n",
              "      <td>0.125000</td>\n",
              "      <td>0.000000</td>\n",
              "    </tr>\n",
              "    <tr>\n",
              "      <th>max</th>\n",
              "      <td>3.000000</td>\n",
              "      <td>0.355000</td>\n",
              "      <td>1.000000</td>\n",
              "    </tr>\n",
              "  </tbody>\n",
              "</table>\n",
              "</div>"
            ],
            "text/plain": [
              "       L1_S24_F1844  L1_S24_F1846      Response\n",
              "count  61949.000000  61949.000000  61949.000000\n",
              "mean       0.000329     -0.000791      0.009847\n",
              "std        0.191397      0.134613      0.098742\n",
              "min       -0.406000     -0.622000      0.000000\n",
              "25%       -0.146000     -0.120000      0.000000\n",
              "50%       -0.001000     -0.001000      0.000000\n",
              "75%        0.143000      0.125000      0.000000\n",
              "max        3.000000      0.355000      1.000000"
            ]
          },
          "metadata": {},
          "execution_count": 2
        }
      ]
    },
    {
      "cell_type": "code",
      "metadata": {
        "colab": {
          "base_uri": "https://localhost:8080/",
          "height": 206
        },
        "id": "t7QfIiSPR6hP",
        "outputId": "8ce334de-a265-4f7d-e3a7-790971848bc6"
      },
      "source": [
        "df.tail()"
      ],
      "execution_count": 3,
      "outputs": [
        {
          "output_type": "execute_result",
          "data": {
            "text/html": [
              "<div>\n",
              "<style scoped>\n",
              "    .dataframe tbody tr th:only-of-type {\n",
              "        vertical-align: middle;\n",
              "    }\n",
              "\n",
              "    .dataframe tbody tr th {\n",
              "        vertical-align: top;\n",
              "    }\n",
              "\n",
              "    .dataframe thead th {\n",
              "        text-align: right;\n",
              "    }\n",
              "</style>\n",
              "<table border=\"1\" class=\"dataframe\">\n",
              "  <thead>\n",
              "    <tr style=\"text-align: right;\">\n",
              "      <th></th>\n",
              "      <th>L1_S24_F1844</th>\n",
              "      <th>L1_S24_F1846</th>\n",
              "      <th>Response</th>\n",
              "    </tr>\n",
              "  </thead>\n",
              "  <tbody>\n",
              "    <tr>\n",
              "      <th>61944</th>\n",
              "      <td>0.145</td>\n",
              "      <td>-0.159</td>\n",
              "      <td>0</td>\n",
              "    </tr>\n",
              "    <tr>\n",
              "      <th>61945</th>\n",
              "      <td>-0.233</td>\n",
              "      <td>0.189</td>\n",
              "      <td>0</td>\n",
              "    </tr>\n",
              "    <tr>\n",
              "      <th>61946</th>\n",
              "      <td>0.013</td>\n",
              "      <td>0.134</td>\n",
              "      <td>0</td>\n",
              "    </tr>\n",
              "    <tr>\n",
              "      <th>61947</th>\n",
              "      <td>0.097</td>\n",
              "      <td>-0.155</td>\n",
              "      <td>0</td>\n",
              "    </tr>\n",
              "    <tr>\n",
              "      <th>61948</th>\n",
              "      <td>0.020</td>\n",
              "      <td>-0.116</td>\n",
              "      <td>0</td>\n",
              "    </tr>\n",
              "  </tbody>\n",
              "</table>\n",
              "</div>"
            ],
            "text/plain": [
              "       L1_S24_F1844  L1_S24_F1846  Response\n",
              "61944         0.145        -0.159         0\n",
              "61945        -0.233         0.189         0\n",
              "61946         0.013         0.134         0\n",
              "61947         0.097        -0.155         0\n",
              "61948         0.020        -0.116         0"
            ]
          },
          "metadata": {},
          "execution_count": 3
        }
      ]
    },
    {
      "cell_type": "markdown",
      "metadata": {
        "id": "JsZnPvIbP5f3"
      },
      "source": [
        "## 1 \n",
        "Постройте на одном графике два приближения к плотности распределения признака `L1_S24_F1846` для `Response = 0` и для `Response = 1`, используя одно из следующих ядер (номер ядра выберите по формуле: `(n mod 6) + 1`, где `n` — ваш номер в списке группы):\n",
        "\n",
        "    1.\tкусочно-постоянное (прямоугольное) -  tophat\n",
        "    2.\tгауссовское -  gaussian\n",
        "    3.\tлинейное (треугольник) -  linear\n",
        "    4.\tкосинусоидальное -  cosine\n",
        "    5.\tквадратичное (Епанечникова) -  epanechnikov\n",
        "    6.\tэкспоненциальное -  exponential\n"
      ]
    },
    {
      "cell_type": "code",
      "metadata": {
        "colab": {
          "base_uri": "https://localhost:8080/"
        },
        "id": "QpO9czvjP5f3",
        "outputId": "15120f2e-6147-4185-8c81-2bbe21f511ce"
      },
      "source": [
        "from sklearn.neighbors.kde import KernelDensity\n",
        "import numpy as np\n",
        "\n",
        "import matplotlib.pyplot as plt"
      ],
      "execution_count": 4,
      "outputs": [
        {
          "output_type": "stream",
          "name": "stderr",
          "text": [
            "/usr/local/lib/python3.7/dist-packages/sklearn/utils/deprecation.py:144: FutureWarning: The sklearn.neighbors.kde module is  deprecated in version 0.22 and will be removed in version 0.24. The corresponding classes / functions should instead be imported from sklearn.neighbors. Anything that cannot be imported from sklearn.neighbors is now part of the private API.\n",
            "  warnings.warn(message, FutureWarning)\n"
          ]
        }
      ]
    },
    {
      "cell_type": "markdown",
      "metadata": {
        "id": "b2K3aUyYP5f5"
      },
      "source": [
        "*Help:*\n",
        "\n",
        "    i0 = data['Response'] == 0\n",
        "    kde0 = KernelDensity(kernel='gaussian', bandwidth=0.1).fit(data.loc[i0, 'L1_S24_F1846'].values.reshape(-1, 1))\n",
        "    X_plot = np.linspace(-1, 1, 1000).reshape(-1, 1)\n",
        "    Dens0 = np.exp(kde0.score_samples(X_plot))  # score_samples возвращает логарифм плотности"
      ]
    },
    {
      "cell_type": "code",
      "metadata": {
        "colab": {
          "base_uri": "https://localhost:8080/",
          "height": 265
        },
        "id": "kqdA_2TOP5f5",
        "outputId": "61697f2e-f0ed-4eee-f816-fb31fc05d57e"
      },
      "source": [
        "# место для кода\n",
        "i0 = df['Response'] == 0\n",
        "kde0 = KernelDensity(kernel='gaussian', bandwidth=0.1).fit(df.loc[i0, 'L1_S24_F1846'].values.reshape(-1, 1))\n",
        "X_plot = np.linspace(-1, 1, 1000).reshape(-1, 1)\n",
        "Dens0 = np.exp(kde0.score_samples(X_plot))\n",
        "i0 = df['Response'] == 1\n",
        "kde1 = KernelDensity(kernel='gaussian', bandwidth=0.1).fit(df.loc[i0, 'L1_S24_F1846'].values.reshape(-1, 1))\n",
        "\n",
        "Dens1 = np.exp(kde1.score_samples(X_plot))\n",
        "plt.plot(X_plot, Dens0)\n",
        "plt.plot(X_plot, Dens1)\n",
        "plt.show()"
      ],
      "execution_count": 63,
      "outputs": [
        {
          "output_type": "display_data",
          "data": {
            "image/png": "[encoded data removed]",
            "text/plain": [
              "<Figure size 432x288 with 1 Axes>"
            ]
          },
          "metadata": {
            "needs_background": "light"
          }
        }
      ]
    },
    {
      "cell_type": "markdown",
      "metadata": {
        "id": "A90sEECDP5f6"
      },
      "source": [
        "Ответьте в комментариях на вопрос: является ли выборка хорошо разделимой по признаку  `L1_S24_F1846`?"
      ]
    },
    {
      "cell_type": "code",
      "metadata": {
        "id": "oWSzMqHPP5f7"
      },
      "source": [
        "# место для комментария\n",
        "# Нет не явдяется поскольку множества сильно пересекаются "
      ],
      "execution_count": 6,
      "outputs": []
    },
    {
      "cell_type": "markdown",
      "metadata": {
        "id": "uscyvcxmP5f8"
      },
      "source": [
        "## 2"
      ]
    },
    {
      "cell_type": "markdown",
      "metadata": {
        "id": "9b_wHp-_P5f8"
      },
      "source": [
        "Разбейте выборку `data` на две равные части: тренировочную `dataTrain` и проверочную `dataTest`. "
      ]
    },
    {
      "cell_type": "code",
      "metadata": {
        "id": "w9K734kYP5f9"
      },
      "source": [
        "dataTrain = df.loc[0:df.shape[0] / 2, ].reset_index(drop=True)\n",
        "dataTest = df.loc[df.shape[0] / 2:df.shape[0], ].reset_index(drop=True)"
      ],
      "execution_count": 7,
      "outputs": []
    },
    {
      "cell_type": "markdown",
      "metadata": {
        "id": "vi-RzI7XP5f9"
      },
      "source": [
        "Пользуясь кросс-валидацией, подберите **для каждого класса `Response` (`r=0` и `r=1`)** значение ширины ядра `bandwidth`, при котором логарифм правдоподобия максимален на проверочной выборке.\n",
        "\n",
        "*Help:*\n",
        "\n",
        "    r = 0\n",
        "    kde0 = KernelDensity(kernel='gaussian', bandwidth=0.05)\n",
        "    kde0.fit(dataTrain.loc[dataTrain['Response']==r, 'L1_S24_F1846'].values.reshape(-1, 1))\n",
        "    logProbability0 = kde0.score_samples(dataTest.loc[dataTest['Response']==r, 'L1_S24_F1846'].values.reshape(-1, 1))\n",
        "    logProbability0[np.isinf(logProbability0)] = -100 # заменяем -бесконечность\n",
        "    logLikehood0 = logProbability0.sum()\n",
        "    print(logLikehood0)"
      ]
    },
    {
      "cell_type": "code",
      "metadata": {
        "colab": {
          "base_uri": "https://localhost:8080/"
        },
        "id": "ygnUUZSTP5f-",
        "outputId": "0e43b12b-415a-4629-996b-c024fbc18305"
      },
      "source": [
        "# место для кода\n",
        "r = 0\n",
        "kde0 = KernelDensity(kernel='gaussian', bandwidth=0.015)\n",
        "kde0.fit(dataTrain.loc[dataTrain['Response']==r, 'L1_S24_F1846'].values.reshape(-1, 1))\n",
        "logProbability0 = kde0.score_samples(dataTest.loc[dataTest['Response']==r, 'L1_S24_F1846'].values.reshape(-1, 1))\n",
        "logProbability0[np.isinf(logProbability0)] = -100 # заменяем -бесконечность\n",
        "logLikehood0 = logProbability0.sum()\n",
        "print(logLikehood0)"
      ],
      "execution_count": 8,
      "outputs": [
        {
          "output_type": "stream",
          "name": "stdout",
          "text": [
            "25265.343584317856\n"
          ]
        }
      ]
    },
    {
      "cell_type": "code",
      "metadata": {
        "colab": {
          "base_uri": "https://localhost:8080/"
        },
        "id": "e98vKFvOWMdZ",
        "outputId": "cf5e229f-45d0-498c-ae5b-11f8105a6a32"
      },
      "source": [
        "r = 1\n",
        "kde1 = KernelDensity(kernel='gaussian', bandwidth=0.02)\n",
        "kde1.fit(dataTrain.loc[dataTrain['Response']==r, 'L1_S24_F1846'].values.reshape(-1, 1))\n",
        "logProbability1 = kde1.score_samples(dataTest.loc[dataTest['Response']==r, 'L1_S24_F1846'].values.reshape(-1, 1))\n",
        "logProbability1[np.isinf(logProbability1)] = -100 # заменяем -бесконечность\n",
        "logLikehood1 = logProbability1.sum()\n",
        "print(logLikehood1)"
      ],
      "execution_count": 9,
      "outputs": [
        {
          "output_type": "stream",
          "name": "stdout",
          "text": [
            "132.84633115560692\n"
          ]
        }
      ]
    },
    {
      "cell_type": "markdown",
      "metadata": {
        "id": "d8Ep4McQP5f-"
      },
      "source": [
        "### 3"
      ]
    },
    {
      "cell_type": "markdown",
      "metadata": {
        "id": "s6LMdFcmP5f-"
      },
      "source": [
        "Для найденных наилучших `bandwidth` вычислите `p(x|0)` и `p(x|1)` для тестовой выборки. "
      ]
    },
    {
      "cell_type": "code",
      "metadata": {
        "id": "M9jdbxjNP5f_"
      },
      "source": [
        "predictionProbXafter0 = np.exp(kde0.score_samples(dataTest['L1_S24_F1846'].values.reshape(-1, 1)))\n",
        "predictionProbXafter1 = np.exp(kde1.score_samples(dataTest['L1_S24_F1846'].values.reshape(-1, 1)))"
      ],
      "execution_count": 10,
      "outputs": []
    },
    {
      "cell_type": "code",
      "metadata": {
        "id": "pwvNMb2jDfMj"
      },
      "source": [
        "def bayes_proba(x):\n",
        "    prob_ = df['Response'].value_counts()[x]/ len(df['Response'])\n",
        "    if x == 0:     \n",
        "        return predictionProbXafter0*prob_/ ((1 - prob_)*predictionProbXafter1 + prob_*predictionProbXafter0) \n",
        "    return predictionProbXafter1*prob_ / ((1 - prob_)*predictionProbXafter0 + prob_*predictionProbXafter1)"
      ],
      "execution_count": 64,
      "outputs": []
    },
    {
      "cell_type": "code",
      "metadata": {
        "id": "gvmrLHGxa9Cj",
        "colab": {
          "base_uri": "https://localhost:8080/"
        },
        "outputId": "b9f52d8d-222b-4325-8798-a8ce7bed3736"
      },
      "source": [
        "df.shape"
      ],
      "execution_count": 65,
      "outputs": [
        {
          "output_type": "execute_result",
          "data": {
            "text/plain": [
              "(61949, 3)"
            ]
          },
          "metadata": {},
          "execution_count": 65
        }
      ]
    },
    {
      "cell_type": "markdown",
      "metadata": {
        "id": "uSqtZRSsP5f_"
      },
      "source": [
        "По формуле Байеса найдите затем `p(0|x)` и `p(1|x)`. Отсортируйте все объекты тестовой выборки по возрастанию предсказанной вероятности `p(1|x)`, выведите на экран вероятности для последних 10 объектов и рассчитайте количество бракованных деталей среди последних 100 объектов в отсортированном ряду.\n",
        "\n",
        "*Help:*\n",
        "    \n",
        "    ind = np.argsort(predictionProb1afterX) - сортировка, возвращающая индексы элементов\n",
        "    print(predictionProb1afterX[ind[-10:]]) - вывод последних 10 элементов\n",
        "    print(sum(dataTest.loc[ind[-100:],'Response'])) - количество бракованных среди 100 с максимальной вероятностью брака"
      ]
    },
    {
      "cell_type": "code",
      "metadata": {
        "id": "jDONuzicdFK3"
      },
      "source": [
        "logProbability1 = bayes_proba(1)"
      ],
      "execution_count": 66,
      "outputs": []
    },
    {
      "cell_type": "code",
      "metadata": {
        "colab": {
          "base_uri": "https://localhost:8080/"
        },
        "id": "dvAkjkwbP5gA",
        "outputId": "dac1ad77-81db-4aaf-c905-4cd9868176d2"
      },
      "source": [
        "# место для кода\n",
        "ind = np.argsort(logProbability1)# - сортировка, возвращающая индексы элементов\n",
        "print(logProbability1[ind[-10:]])# - вывод последних 10 элементов\n",
        "print(sum(dataTest.loc[ind[-100:],'Response']))# - количество бракованных среди 100 с максимальной вероятностью брака"
      ],
      "execution_count": 67,
      "outputs": [
        {
          "output_type": "stream",
          "name": "stdout",
          "text": [
            "[0.60451118 0.6156455  0.6156455  0.62867901 0.63937015 0.63937015\n",
            " 0.64217671 0.64217671 0.658035   0.658035  ]\n",
            "30\n"
          ]
        }
      ]
    }
  ]
}
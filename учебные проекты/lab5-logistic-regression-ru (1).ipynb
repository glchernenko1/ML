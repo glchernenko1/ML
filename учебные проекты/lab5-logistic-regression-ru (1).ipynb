{
 "cells": [
  {
   "cell_type": "markdown",
   "metadata": {},
   "source": [
    "## Лабораторная 5: логистическая регрессия. ROC. AUC. One-hot encoding"
   ]
  },
  {
   "cell_type": "markdown",
   "metadata": {},
   "source": [
    "## 1\n",
    "Рассмотрим данные медицинской страховой фирмы. На основе характеристик пациентов `Members.csv` (возраст, пол) и данных о получении медицинского обслуживания в предыдущем году `Claims_Y1.csv` (медицинское учреждение, врач, тип проблемы, количество дней госпитализации, дата, и др. ) нужно предсказать факт госпитализации хотя бы на 1 день в следующем году `DaysInHospital_Y2.csv`."
   ]
  },
  {
   "cell_type": "code",
   "execution_count": 2,
   "metadata": {},
   "outputs": [],
   "source": [
    "import pandas as pd\n",
    "\n",
    "from sklearn import *\n",
    "\n",
    "%matplotlib inline\n",
    "import matplotlib.pyplot as plt\n",
    "pd.set_option('display.max_columns', 500)"
   ]
  },
  {
   "cell_type": "markdown",
   "metadata": {},
   "source": [
    "Прочтите данные, в качестве параметра index_col используйте `MemberID`. \n",
    "\n",
    "* данные из таблицы 'DaysInHospital_Y2.csv' в переменную `days2`\n",
    "* данные из таблицы 'Members.csv' в переменную `m`\n",
    "* данные из таблицы 'Claims_Y1.csv' в переменную `claims`"
   ]
  },
  {
   "cell_type": "code",
   "execution_count": 3,
   "metadata": {},
   "outputs": [],
   "source": [
    "# место для кода\n",
    "m = pd.read_csv('Members.csv', index_col='MemberID')\n",
    "days2 = pd.read_csv('DaysInHospital_Y2.csv', index_col='MemberID')\n",
    "claims = pd.read_csv('Claims_Y1.csv',  index_col='MemberID')"
   ]
  },
  {
   "cell_type": "code",
   "execution_count": 5,
   "metadata": {},
   "outputs": [
    {
     "name": "stdout",
     "output_type": "stream",
     "text": [
      "          ProviderID    Vendor      PCP Year           Specialty  \\\n",
      "MemberID                                                           \n",
      "42286978   8013252.0  172193.0  37796.0   Y1             Surgery   \n",
      "99829076   6721023.0  265273.0  91972.0   Y1      Rehabilitation   \n",
      "54666321   9932074.0   35565.0  27294.0   Y1  Diagnostic Imaging   \n",
      "66951188   4699470.0  179509.0  75876.0   Y1  Diagnostic Imaging   \n",
      "78859054   9121540.0  523791.0  21579.0   Y1           Emergency   \n",
      "...              ...       ...      ...  ...                 ...   \n",
      "98535515   7638907.0  559727.0  83829.0   Y1           Emergency   \n",
      "1344508    4107701.0  164823.0  78718.0   Y1          Laboratory   \n",
      "73820095   1256697.0  789572.0    821.0   Y1             Surgery   \n",
      "22476463   7053364.0  240043.0  70171.0   Y1          Laboratory   \n",
      "57805129   3884005.0  523319.0  90756.0   Y1            Internal   \n",
      "\n",
      "                    PlaceSvc PayDelay LengthOfStay         DSFS  \\\n",
      "MemberID                                                          \n",
      "42286978              Office       28          NaN  8- 9 months   \n",
      "99829076              Office     162+          NaN   0- 1 month   \n",
      "54666321              Office       29          NaN   0- 1 month   \n",
      "66951188  Inpatient Hospital       51          NaN   0- 1 month   \n",
      "78859054         Urgent Care       22        1 day  6- 7 months   \n",
      "...                      ...      ...          ...          ...   \n",
      "98535515         Urgent Care       44          NaN  7- 8 months   \n",
      "1344508      Independent Lab       17          NaN          NaN   \n",
      "73820095              Office       35          NaN  5- 6 months   \n",
      "22476463     Independent Lab       38          NaN   0- 1 month   \n",
      "57805129              Office       15          NaN  4- 5 months   \n",
      "\n",
      "         PrimaryConditionGroup CharlsonIndex ProcedureGroup  SupLOS  \n",
      "MemberID                                                             \n",
      "42286978               NEUMENT             0            MED       0  \n",
      "99829076                TRAUMA             0            MED       0  \n",
      "54666321                RESPR4             0            RAD       0  \n",
      "66951188                 ROAMI             0            RAD       0  \n",
      "78859054                HEART2             0            SDS       0  \n",
      "...                        ...           ...            ...     ...  \n",
      "98535515                TRAUMA             0             EM       0  \n",
      "1344508                 CATAST             0            SCS       0  \n",
      "73820095                MSC2a3           1-2            MED       0  \n",
      "22476463                MSC2a3             0             PL       0  \n",
      "57805129                SKNAUT           1-2             EM       0  \n",
      "\n",
      "[865689 rows x 13 columns]\n"
     ]
    }
   ],
   "source": [
    "print(claims)"
   ]
  },
  {
   "cell_type": "markdown",
   "metadata": {},
   "source": [
    "## 2\n",
    "Чтобы анонимизировать данные организатор указал приблизительную информацию о пациентах, например в столбце возраст указаны возрастные группы: '0-9', '10-19', '20-29', '30-39', '40-49', '50-59', '60-69', '70-79', '80+'. Преобразуем строковые признаки в количественные и заменим пропущенные значения:"
   ]
  },
  {
   "cell_type": "code",
   "execution_count": 6,
   "metadata": {},
   "outputs": [],
   "source": [
    "i = pd.notnull(m.AgeAtFirstClaim)\n",
    "m.loc[i,'AgeAtFirstClaim'] = m.loc[i,'AgeAtFirstClaim'].apply(lambda s: s.split('-')[0] if s!='80+' else '80')\n",
    "m.loc[i,'AgeAtFirstClaim'] = m.loc[i,'AgeAtFirstClaim'].apply(lambda s: int(s))\n",
    "\n",
    "m.AgeAtFirstClaim = m.AgeAtFirstClaim.fillna(value=-1)\n",
    "\n",
    "m.Sex = m.Sex.fillna(value='N')\n",
    "\n",
    "claims.CharlsonIndex = claims.CharlsonIndex.map({'0':0, '1-2':1, '3-4':3, '5+':5})\n",
    "claims.LengthOfStay = claims.LengthOfStay.fillna(value=0)\n",
    "claims.LengthOfStay = claims.LengthOfStay.map({0:0, '1 day':1, '2 days':2, '3 days':3, '4 days':4,\\\n",
    "    '5 days':5, '6 days':6, '1- 2 weeks':10, '2- 4 weeks':21, '4- 8 weeks':42, '26+ weeks':182})"
   ]
  },
  {
   "cell_type": "markdown",
   "metadata": {},
   "source": [
    "## 3\n",
    "Сконструируем признаки по массиву случаев медицинского обслуживания: \n",
    "* `f_Charlson` — максимальный индекс коморбидности Чальсона по всем случаям для пациента (`CharlsonIndex` в таблице `claims`)\n",
    "* `f_LengthOfStay` — суммарное количество дней госпитализации в прошлом году (`LengthOfStay` в таблице `claims`) \n",
    "\n",
    "*Функции, которые могут пригодиться при решении: `.groupby(['MemberID']), .max(), .sum()`* "
   ]
  },
  {
   "cell_type": "code",
   "execution_count": 7,
   "metadata": {},
   "outputs": [],
   "source": [
    "f_Charlson = claims.groupby(['MemberID'])['CharlsonIndex'].max()\n",
    "f_LengthOfStay = claims.groupby(['MemberID'])['LengthOfStay'].sum()"
   ]
  },
  {
   "cell_type": "markdown",
   "metadata": {},
   "source": [
    "## 4\n",
    "\n",
    "Составим матрицу объектов признаков со столбцами: `f_Charlson`, `f_LengthOfStay`, возраст пациента, `ClaimsTruncated` (не оказалось ли случаев медицинского обслуживания слишком много):\n",
    "\n",
    "*Функции, которые могут пригодиться при решении: `.join()`*"
   ]
  },
  {
   "cell_type": "code",
   "execution_count": 8,
   "metadata": {},
   "outputs": [
    {
     "data": {
      "text/plain": [
       "False"
      ]
     },
     "execution_count": 8,
     "metadata": {},
     "output_type": "execute_result"
    }
   ],
   "source": [
    "f_Charlson.isnull().any()"
   ]
  },
  {
   "cell_type": "code",
   "execution_count": 9,
   "metadata": {},
   "outputs": [
    {
     "data": {
      "text/html": [
       "<div>\n",
       "<style scoped>\n",
       "    .dataframe tbody tr th:only-of-type {\n",
       "        vertical-align: middle;\n",
       "    }\n",
       "\n",
       "    .dataframe tbody tr th {\n",
       "        vertical-align: top;\n",
       "    }\n",
       "\n",
       "    .dataframe thead th {\n",
       "        text-align: right;\n",
       "    }\n",
       "</style>\n",
       "<table border=\"1\" class=\"dataframe\">\n",
       "  <thead>\n",
       "    <tr style=\"text-align: right;\">\n",
       "      <th></th>\n",
       "      <th>ClaimsTruncated</th>\n",
       "      <th>DaysInHospital</th>\n",
       "      <th>CharlsonIndex</th>\n",
       "      <th>LengthOfStay</th>\n",
       "      <th>AgeAtFirstClaim</th>\n",
       "    </tr>\n",
       "    <tr>\n",
       "      <th>MemberID</th>\n",
       "      <th></th>\n",
       "      <th></th>\n",
       "      <th></th>\n",
       "      <th></th>\n",
       "      <th></th>\n",
       "    </tr>\n",
       "  </thead>\n",
       "  <tbody>\n",
       "    <tr>\n",
       "      <th>98324177</th>\n",
       "      <td>0</td>\n",
       "      <td>0</td>\n",
       "      <td>0</td>\n",
       "      <td>0</td>\n",
       "      <td>30</td>\n",
       "    </tr>\n",
       "    <tr>\n",
       "      <th>33899367</th>\n",
       "      <td>1</td>\n",
       "      <td>1</td>\n",
       "      <td>0</td>\n",
       "      <td>0</td>\n",
       "      <td>80</td>\n",
       "    </tr>\n",
       "    <tr>\n",
       "      <th>5481382</th>\n",
       "      <td>0</td>\n",
       "      <td>1</td>\n",
       "      <td>0</td>\n",
       "      <td>0</td>\n",
       "      <td>20</td>\n",
       "    </tr>\n",
       "    <tr>\n",
       "      <th>69908334</th>\n",
       "      <td>0</td>\n",
       "      <td>0</td>\n",
       "      <td>0</td>\n",
       "      <td>0</td>\n",
       "      <td>60</td>\n",
       "    </tr>\n",
       "    <tr>\n",
       "      <th>29951458</th>\n",
       "      <td>0</td>\n",
       "      <td>0</td>\n",
       "      <td>0</td>\n",
       "      <td>0</td>\n",
       "      <td>40</td>\n",
       "    </tr>\n",
       "  </tbody>\n",
       "</table>\n",
       "</div>"
      ],
      "text/plain": [
       "          ClaimsTruncated  DaysInHospital  CharlsonIndex  LengthOfStay  \\\n",
       "MemberID                                                                 \n",
       "98324177                0               0              0             0   \n",
       "33899367                1               1              0             0   \n",
       "5481382                 0               1              0             0   \n",
       "69908334                0               0              0             0   \n",
       "29951458                0               0              0             0   \n",
       "\n",
       "          AgeAtFirstClaim  \n",
       "MemberID                   \n",
       "98324177               30  \n",
       "33899367               80  \n",
       "5481382                20  \n",
       "69908334               60  \n",
       "29951458               40  "
      ]
     },
     "execution_count": 9,
     "metadata": {},
     "output_type": "execute_result"
    }
   ],
   "source": [
    "data = days2\n",
    "data = data.join(f_Charlson)\n",
    "data = data.join(f_LengthOfStay)\n",
    "data = data.join(m['AgeAtFirstClaim'])\n",
    "# место для кода\n",
    "data.head(5)"
   ]
  },
  {
   "cell_type": "markdown",
   "metadata": {},
   "source": [
    "## 5\n",
    "Составим функцию, которая будет делить выборку на две части `dataTrain` и `dataTest`, обучать логистическую регрессию на `dataTrain`, применять к `dataTest`, строить кривую ошибок и считать под ней площадь:"
   ]
  },
  {
   "cell_type": "code",
   "execution_count": 10,
   "metadata": {},
   "outputs": [],
   "source": [
    "def calcAUC(data):\n",
    "    dataTrain, dataTest = model_selection.train_test_split(data, test_size=0.5, random_state=1)\n",
    "    model = linear_model.LogisticRegression()\n",
    "    model.fit( dataTrain.loc[:, dataTrain.columns != 'DaysInHospital'], dataTrain.DaysInHospital )\n",
    "    predictionProb = model.predict_proba( dataTest.loc[:, dataTest.columns != 'DaysInHospital'] )\n",
    "    fpr, tpr, _ = metrics.roc_curve(dataTest['DaysInHospital'], predictionProb[:,1])\n",
    "    plt.figure()\n",
    "    plt.plot(fpr, tpr, color='darkorange', lw=2)\n",
    "    plt.plot([0, 1], [0, 1], color='navy', lw=2, linestyle='--')\n",
    "    plt.show()\n",
    "    print( metrics.roc_auc_score(dataTest['DaysInHospital'], predictionProb[:,1]) )"
   ]
  },
  {
   "cell_type": "markdown",
   "metadata": {},
   "source": [
    "## 6\n",
    "Применим данную функцию к `data`:"
   ]
  },
  {
   "cell_type": "code",
   "execution_count": 11,
   "metadata": {},
   "outputs": [
    {
     "data": {
      "image/png": "[encoded data removed]",
      "text/plain": [
       "<Figure size 432x288 with 1 Axes>"
      ]
     },
     "metadata": {
      "needs_background": "light"
     },
     "output_type": "display_data"
    },
    {
     "name": "stdout",
     "output_type": "stream",
     "text": [
      "0.6125102736880302\n"
     ]
    }
   ],
   "source": [
    "calcAUC(data)"
   ]
  },
  {
   "cell_type": "markdown",
   "metadata": {},
   "source": [
    "## 7\n",
    "Логистическая регрессия принимает на вход только количественные признаки.\n",
    "\n",
    "Добавим к нашим данным пол пациента, применив one hot encoding:\n",
    "\n",
    "*Функции, которые могут пригодиться при решении: `pd.get_dummies(m.Sex, prefix='pol')`* "
   ]
  },
  {
   "cell_type": "code",
   "execution_count": 12,
   "metadata": {},
   "outputs": [
    {
     "data": {
      "image/png": "[encoded data removed]",
      "text/plain": [
       "<Figure size 432x288 with 1 Axes>"
      ]
     },
     "metadata": {
      "needs_background": "light"
     },
     "output_type": "display_data"
    },
    {
     "name": "stdout",
     "output_type": "stream",
     "text": [
      "0.6670219314475239\n"
     ]
    }
   ],
   "source": [
    "data = data.join(pd.get_dummies(m.Sex, prefix='pol'))\n",
    "calcAUC(data)"
   ]
  },
  {
   "cell_type": "code",
   "execution_count": 16,
   "metadata": {},
   "outputs": [
    {
     "data": {
      "text/plain": [
       "MemberID\n",
       "14723353    M\n",
       "75706636    M\n",
       "17320609    M\n",
       "69690888    M\n",
       "33004608    M\n",
       "           ..\n",
       "99711514    F\n",
       "31690877    F\n",
       "9519985     F\n",
       "92806272    F\n",
       "81827173    F\n",
       "Name: Sex, Length: 113000, dtype: object"
      ]
     },
     "execution_count": 16,
     "metadata": {},
     "output_type": "execute_result"
    }
   ],
   "source": [
    "m.Sex"
   ]
  },
  {
   "cell_type": "markdown",
   "metadata": {},
   "source": [
    "## 8\n",
    "Попытайтесь применить  one hot encoding к уже существующим в `data2` признакам или составить новые признаки по массиву `claims`."
   ]
  },
  {
   "cell_type": "code",
   "execution_count": 30,
   "metadata": {},
   "outputs": [
    {
     "name": "stdout",
     "output_type": "stream",
     "text": [
      "          AgeAtFirstClaim Sex\n",
      "MemberID                     \n",
      "14723353               70   M\n",
      "75706636               70   M\n",
      "17320609               70   M\n",
      "69690888               40   M\n",
      "33004608                0   M\n",
      "...                   ...  ..\n",
      "99711514               40   F\n",
      "31690877               50   F\n",
      "9519985                30   F\n",
      "92806272               50   F\n",
      "81827173               40   F\n",
      "\n",
      "[113000 rows x 2 columns]\n"
     ]
    }
   ],
   "source": [
    "print(m)"
   ]
  },
  {
   "cell_type": "code",
   "execution_count": 41,
   "metadata": {},
   "outputs": [],
   "source": [
    "import numpy as np"
   ]
  },
  {
   "cell_type": "code",
   "execution_count": 44,
   "metadata": {},
   "outputs": [
    {
     "name": "stderr",
     "output_type": "stream",
     "text": [
      "C:\\Users\\google\\AppData\\Local\\Programs\\Python\\Python39\\lib\\site-packages\\sklearn\\linear_model\\_logistic.py:814: ConvergenceWarning: lbfgs failed to converge (status=1):\n",
      "STOP: TOTAL NO. of ITERATIONS REACHED LIMIT.\n",
      "\n",
      "Increase the number of iterations (max_iter) or scale the data as shown in:\n",
      "    https://scikit-learn.org/stable/modules/preprocessing.html\n",
      "Please also refer to the documentation for alternative solver options:\n",
      "    https://scikit-learn.org/stable/modules/linear_model.html#logistic-regression\n",
      "  n_iter_i = _check_optimize_result(\n"
     ]
    },
    {
     "data": {
      "image/png": "[encoded data removed]",
      "text/plain": [
       "<Figure size 432x288 with 1 Axes>"
      ]
     },
     "metadata": {
      "needs_background": "light"
     },
     "output_type": "display_data"
    },
    {
     "name": "stdout",
     "output_type": "stream",
     "text": [
      "0.6931940057323459\n"
     ]
    }
   ],
   "source": [
    "data = days2\n",
    "data = data.join(f_Charlson)\n",
    "data = data.join(f_LengthOfStay)\n",
    "data = data.join(m['AgeAtFirstClaim'])\n",
    "data = data.join(pd.get_dummies(m.Sex, prefix='pol'))\n",
    "data = data.join(pd.get_dummies(m.AgeAtFirstClaim, prefix='pol')) \n",
    "# data = data.join(pd.get_dummies(claims.DSFS, prefix='pol')) \n",
    "#data = data.join(claims['ProviderID'].replace(np.nan, 0))  \n",
    "\n",
    "calcAUC(data)"
   ]
  },
  {
   "cell_type": "markdown",
   "metadata": {},
   "source": [
    "Построившему матрицу объектов признаков, для которой логистическая регрессия работает с наилучшим качеством: +5 бонусных баллов."
   ]
  },
  {
   "cell_type": "code",
   "execution_count": null,
   "metadata": {},
   "outputs": [],
   "source": []
  }
 ],
 "metadata": {
  "interpreter": {
   "hash": "027d74995a8c1c6b5470f020677a6bc0a1aaa9705404f6a6a292b9f0406298c5"
  },
  "kernelspec": {
   "display_name": "Python 3.9.5 64-bit",
   "name": "python3"
  },
  "language_info": {
   "codemirror_mode": {
    "name": "ipython",
    "version": 3
   },
   "file_extension": ".py",
   "mimetype": "text/x-python",
   "name": "python",
   "nbconvert_exporter": "python",
   "pygments_lexer": "ipython3",
   "version": "3.9.5"
  }
 },
 "nbformat": 4,
 "nbformat_minor": 2
}
